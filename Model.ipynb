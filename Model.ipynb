{
 "cells": [
  {
   "cell_type": "code",
   "execution_count": 2,
   "metadata": {
    "collapsed": true,
    "pycharm": {
     "is_executing": false
    }
   },
   "outputs": [],
   "source": [
    "import pandas as pd \n",
    "import numpy as np \n",
    "import matplotlib.pyplot as plt\n",
    "import warnings"
   ]
  },
  {
   "cell_type": "code",
   "execution_count": 3,
   "outputs": [],
   "source": [
    "train = pd.read_csv(\"train_ctrUa4K.csv\")\n",
    "test = pd.read_csv(\"test_lAUu6dG.csv\")\n"
   ],
   "metadata": {
    "collapsed": false,
    "pycharm": {
     "name": "#%%\n",
     "is_executing": false
    }
   }
  },
  {
   "cell_type": "code",
   "execution_count": 4,
   "outputs": [],
   "source": [
    "train_original = train.copy()\n",
    "test_original = test.copy()"
   ],
   "metadata": {
    "collapsed": false,
    "pycharm": {
     "name": "#%%\n",
     "is_executing": false
    }
   }
  },
  {
   "cell_type": "code",
   "execution_count": 5,
   "outputs": [
    {
     "data": {
      "text/plain": "                          0         1         2             3         4\nLoan_ID            LP001002  LP001003  LP001005      LP001006  LP001008\nGender                 Male      Male      Male          Male      Male\nMarried                  No       Yes       Yes           Yes        No\nDependents                0         1         0             0         0\nEducation          Graduate  Graduate  Graduate  Not Graduate  Graduate\nSelf_Employed            No        No       Yes            No        No\nApplicantIncome        5849      4583      3000          2583      6000\nCoapplicantIncome         0      1508         0          2358         0\nLoanAmount              NaN       128        66           120       141\nLoan_Amount_Term        360       360       360           360       360\nCredit_History            1         1         1             1         1\nProperty_Area         Urban     Rural     Urban         Urban     Urban\nLoan_Status               Y         N         Y             Y         Y",
      "text/html": "<div>\n<style scoped>\n    .dataframe tbody tr th:only-of-type {\n        vertical-align: middle;\n    }\n\n    .dataframe tbody tr th {\n        vertical-align: top;\n    }\n\n    .dataframe thead th {\n        text-align: right;\n    }\n</style>\n<table border=\"1\" class=\"dataframe\">\n  <thead>\n    <tr style=\"text-align: right;\">\n      <th></th>\n      <th>0</th>\n      <th>1</th>\n      <th>2</th>\n      <th>3</th>\n      <th>4</th>\n    </tr>\n  </thead>\n  <tbody>\n    <tr>\n      <td>Loan_ID</td>\n      <td>LP001002</td>\n      <td>LP001003</td>\n      <td>LP001005</td>\n      <td>LP001006</td>\n      <td>LP001008</td>\n    </tr>\n    <tr>\n      <td>Gender</td>\n      <td>Male</td>\n      <td>Male</td>\n      <td>Male</td>\n      <td>Male</td>\n      <td>Male</td>\n    </tr>\n    <tr>\n      <td>Married</td>\n      <td>No</td>\n      <td>Yes</td>\n      <td>Yes</td>\n      <td>Yes</td>\n      <td>No</td>\n    </tr>\n    <tr>\n      <td>Dependents</td>\n      <td>0</td>\n      <td>1</td>\n      <td>0</td>\n      <td>0</td>\n      <td>0</td>\n    </tr>\n    <tr>\n      <td>Education</td>\n      <td>Graduate</td>\n      <td>Graduate</td>\n      <td>Graduate</td>\n      <td>Not Graduate</td>\n      <td>Graduate</td>\n    </tr>\n    <tr>\n      <td>Self_Employed</td>\n      <td>No</td>\n      <td>No</td>\n      <td>Yes</td>\n      <td>No</td>\n      <td>No</td>\n    </tr>\n    <tr>\n      <td>ApplicantIncome</td>\n      <td>5849</td>\n      <td>4583</td>\n      <td>3000</td>\n      <td>2583</td>\n      <td>6000</td>\n    </tr>\n    <tr>\n      <td>CoapplicantIncome</td>\n      <td>0</td>\n      <td>1508</td>\n      <td>0</td>\n      <td>2358</td>\n      <td>0</td>\n    </tr>\n    <tr>\n      <td>LoanAmount</td>\n      <td>NaN</td>\n      <td>128</td>\n      <td>66</td>\n      <td>120</td>\n      <td>141</td>\n    </tr>\n    <tr>\n      <td>Loan_Amount_Term</td>\n      <td>360</td>\n      <td>360</td>\n      <td>360</td>\n      <td>360</td>\n      <td>360</td>\n    </tr>\n    <tr>\n      <td>Credit_History</td>\n      <td>1</td>\n      <td>1</td>\n      <td>1</td>\n      <td>1</td>\n      <td>1</td>\n    </tr>\n    <tr>\n      <td>Property_Area</td>\n      <td>Urban</td>\n      <td>Rural</td>\n      <td>Urban</td>\n      <td>Urban</td>\n      <td>Urban</td>\n    </tr>\n    <tr>\n      <td>Loan_Status</td>\n      <td>Y</td>\n      <td>N</td>\n      <td>Y</td>\n      <td>Y</td>\n      <td>Y</td>\n    </tr>\n  </tbody>\n</table>\n</div>"
     },
     "metadata": {},
     "output_type": "execute_result",
     "execution_count": 5
    }
   ],
   "source": [
    "train.head().T\n"
   ],
   "metadata": {
    "collapsed": false,
    "pycharm": {
     "name": "#%%\n",
     "is_executing": false
    }
   }
  },
  {
   "cell_type": "code",
   "execution_count": null,
   "outputs": [],
   "source": [],
   "metadata": {
    "collapsed": false,
    "pycharm": {
     "name": "#%%\n"
    }
   }
  },
  {
   "cell_type": "code",
   "execution_count": null,
   "outputs": [],
   "source": [
    "\n"
   ],
   "metadata": {
    "collapsed": false,
    "pycharm": {
     "name": "#%%\n"
    }
   }
  }
 ],
 "metadata": {
  "kernelspec": {
   "display_name": "Python 3",
   "language": "python",
   "name": "python3"
  },
  "language_info": {
   "codemirror_mode": {
    "name": "ipython",
    "version": 2
   },
   "file_extension": ".py",
   "mimetype": "text/x-python",
   "name": "python",
   "nbconvert_exporter": "python",
   "pygments_lexer": "ipython2",
   "version": "2.7.6"
  },
  "pycharm": {
   "stem_cell": {
    "cell_type": "raw",
    "source": [],
    "metadata": {
     "collapsed": false
    }
   }
  }
 },
 "nbformat": 4,
 "nbformat_minor": 0
}