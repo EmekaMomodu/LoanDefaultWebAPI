{
 "cells": [
  {
   "cell_type": "code",
   "execution_count": 43,
   "metadata": {},
   "outputs": [],
   "source": [
    "import pandas as pd \n",
    "import numpy as np \n",
    "import matplotlib.pyplot as plt\n",
    "import warnings\n",
    "from sklearn.model_selection import train_test_split\n",
    "from sklearn.ensemble import GradientBoostingClassifier\n",
    "from sklearn.metrics import accuracy_score\n",
    "from catboost import CatBoostClassifier\n",
    "import seaborn as sns\n",
    "import joblib"
   ]
  },
  {
   "cell_type": "code",
   "execution_count": 3,
   "metadata": {
    "pycharm": {
     "name": "#%%\n"
    }
   },
   "outputs": [],
   "source": [
    "train = pd.read_csv(\"train_ctrUa4K.csv\")\n",
    "test = pd.read_csv(\"test_lAUu6dG.csv\")\n"
   ]
  },
  {
   "cell_type": "code",
   "execution_count": 4,
   "metadata": {},
   "outputs": [
    {
     "output_type": "stream",
     "name": "stdout",
     "text": [
      "<class 'pandas.core.frame.DataFrame'>\nRangeIndex: 614 entries, 0 to 613\nData columns (total 13 columns):\n #   Column             Non-Null Count  Dtype  \n---  ------             --------------  -----  \n 0   Loan_ID            614 non-null    object \n 1   Gender             601 non-null    object \n 2   Married            611 non-null    object \n 3   Dependents         599 non-null    object \n 4   Education          614 non-null    object \n 5   Self_Employed      582 non-null    object \n 6   ApplicantIncome    614 non-null    int64  \n 7   CoapplicantIncome  614 non-null    float64\n 8   LoanAmount         592 non-null    float64\n 9   Loan_Amount_Term   600 non-null    float64\n 10  Credit_History     564 non-null    float64\n 11  Property_Area      614 non-null    object \n 12  Loan_Status        614 non-null    object \ndtypes: float64(4), int64(1), object(8)\nmemory usage: 62.5+ KB\n"
     ]
    }
   ],
   "source": [
    "train.info()"
   ]
  },
  {
   "cell_type": "code",
   "execution_count": 5,
   "metadata": {},
   "outputs": [
    {
     "output_type": "stream",
     "name": "stdout",
     "text": [
      "<class 'pandas.core.frame.DataFrame'>\nRangeIndex: 367 entries, 0 to 366\nData columns (total 12 columns):\n #   Column             Non-Null Count  Dtype  \n---  ------             --------------  -----  \n 0   Loan_ID            367 non-null    object \n 1   Gender             356 non-null    object \n 2   Married            367 non-null    object \n 3   Dependents         357 non-null    object \n 4   Education          367 non-null    object \n 5   Self_Employed      344 non-null    object \n 6   ApplicantIncome    367 non-null    int64  \n 7   CoapplicantIncome  367 non-null    int64  \n 8   LoanAmount         362 non-null    float64\n 9   Loan_Amount_Term   361 non-null    float64\n 10  Credit_History     338 non-null    float64\n 11  Property_Area      367 non-null    object \ndtypes: float64(3), int64(2), object(7)\nmemory usage: 34.5+ KB\n"
     ]
    }
   ],
   "source": [
    "test.info()"
   ]
  },
  {
   "cell_type": "code",
   "execution_count": 6,
   "metadata": {},
   "outputs": [
    {
     "output_type": "execute_result",
     "data": {
      "text/plain": [
       "<bound method IndexOpsMixin.nunique of 0      LP001002\n",
       "1      LP001003\n",
       "2      LP001005\n",
       "3      LP001006\n",
       "4      LP001008\n",
       "         ...   \n",
       "609    LP002978\n",
       "610    LP002979\n",
       "611    LP002983\n",
       "612    LP002984\n",
       "613    LP002990\n",
       "Name: Loan_ID, Length: 614, dtype: object>"
      ]
     },
     "metadata": {},
     "execution_count": 6
    }
   ],
   "source": [
    "train['Loan_ID'].nunique"
   ]
  },
  {
   "cell_type": "code",
   "execution_count": 7,
   "metadata": {},
   "outputs": [
    {
     "output_type": "execute_result",
     "data": {
      "text/plain": [
       "<bound method IndexOpsMixin.nunique of 0      LP001015\n",
       "1      LP001022\n",
       "2      LP001031\n",
       "3      LP001035\n",
       "4      LP001051\n",
       "         ...   \n",
       "362    LP002971\n",
       "363    LP002975\n",
       "364    LP002980\n",
       "365    LP002986\n",
       "366    LP002989\n",
       "Name: Loan_ID, Length: 367, dtype: object>"
      ]
     },
     "metadata": {},
     "execution_count": 7
    }
   ],
   "source": [
    "test['Loan_ID'].nunique"
   ]
  },
  {
   "cell_type": "code",
   "execution_count": 8,
   "metadata": {
    "pycharm": {
     "name": "#%%\n"
    }
   },
   "outputs": [
    {
     "output_type": "execute_result",
     "data": {
      "text/plain": [
       "                          0         1         2             3         4\n",
       "Loan_ID            LP001002  LP001003  LP001005      LP001006  LP001008\n",
       "Gender                 Male      Male      Male          Male      Male\n",
       "Married                  No       Yes       Yes           Yes        No\n",
       "Dependents                0         1         0             0         0\n",
       "Education          Graduate  Graduate  Graduate  Not Graduate  Graduate\n",
       "Self_Employed            No        No       Yes            No        No\n",
       "ApplicantIncome        5849      4583      3000          2583      6000\n",
       "CoapplicantIncome         0      1508         0          2358         0\n",
       "LoanAmount              NaN       128        66           120       141\n",
       "Loan_Amount_Term        360       360       360           360       360\n",
       "Credit_History            1         1         1             1         1\n",
       "Property_Area         Urban     Rural     Urban         Urban     Urban\n",
       "Loan_Status               Y         N         Y             Y         Y"
      ],
      "text/html": "<div>\n<style scoped>\n    .dataframe tbody tr th:only-of-type {\n        vertical-align: middle;\n    }\n\n    .dataframe tbody tr th {\n        vertical-align: top;\n    }\n\n    .dataframe thead th {\n        text-align: right;\n    }\n</style>\n<table border=\"1\" class=\"dataframe\">\n  <thead>\n    <tr style=\"text-align: right;\">\n      <th></th>\n      <th>0</th>\n      <th>1</th>\n      <th>2</th>\n      <th>3</th>\n      <th>4</th>\n    </tr>\n  </thead>\n  <tbody>\n    <tr>\n      <th>Loan_ID</th>\n      <td>LP001002</td>\n      <td>LP001003</td>\n      <td>LP001005</td>\n      <td>LP001006</td>\n      <td>LP001008</td>\n    </tr>\n    <tr>\n      <th>Gender</th>\n      <td>Male</td>\n      <td>Male</td>\n      <td>Male</td>\n      <td>Male</td>\n      <td>Male</td>\n    </tr>\n    <tr>\n      <th>Married</th>\n      <td>No</td>\n      <td>Yes</td>\n      <td>Yes</td>\n      <td>Yes</td>\n      <td>No</td>\n    </tr>\n    <tr>\n      <th>Dependents</th>\n      <td>0</td>\n      <td>1</td>\n      <td>0</td>\n      <td>0</td>\n      <td>0</td>\n    </tr>\n    <tr>\n      <th>Education</th>\n      <td>Graduate</td>\n      <td>Graduate</td>\n      <td>Graduate</td>\n      <td>Not Graduate</td>\n      <td>Graduate</td>\n    </tr>\n    <tr>\n      <th>Self_Employed</th>\n      <td>No</td>\n      <td>No</td>\n      <td>Yes</td>\n      <td>No</td>\n      <td>No</td>\n    </tr>\n    <tr>\n      <th>ApplicantIncome</th>\n      <td>5849</td>\n      <td>4583</td>\n      <td>3000</td>\n      <td>2583</td>\n      <td>6000</td>\n    </tr>\n    <tr>\n      <th>CoapplicantIncome</th>\n      <td>0</td>\n      <td>1508</td>\n      <td>0</td>\n      <td>2358</td>\n      <td>0</td>\n    </tr>\n    <tr>\n      <th>LoanAmount</th>\n      <td>NaN</td>\n      <td>128</td>\n      <td>66</td>\n      <td>120</td>\n      <td>141</td>\n    </tr>\n    <tr>\n      <th>Loan_Amount_Term</th>\n      <td>360</td>\n      <td>360</td>\n      <td>360</td>\n      <td>360</td>\n      <td>360</td>\n    </tr>\n    <tr>\n      <th>Credit_History</th>\n      <td>1</td>\n      <td>1</td>\n      <td>1</td>\n      <td>1</td>\n      <td>1</td>\n    </tr>\n    <tr>\n      <th>Property_Area</th>\n      <td>Urban</td>\n      <td>Rural</td>\n      <td>Urban</td>\n      <td>Urban</td>\n      <td>Urban</td>\n    </tr>\n    <tr>\n      <th>Loan_Status</th>\n      <td>Y</td>\n      <td>N</td>\n      <td>Y</td>\n      <td>Y</td>\n      <td>Y</td>\n    </tr>\n  </tbody>\n</table>\n</div>"
     },
     "metadata": {},
     "execution_count": 8
    }
   ],
   "source": [
    "train.head().T\n"
   ]
  },
  {
   "cell_type": "code",
   "execution_count": 9,
   "metadata": {
    "pycharm": {
     "name": "#%%\n"
    }
   },
   "outputs": [
    {
     "output_type": "execute_result",
     "data": {
      "text/plain": [
       "                          0         1         2         3             4\n",
       "Loan_ID            LP001015  LP001022  LP001031  LP001035      LP001051\n",
       "Gender                 Male      Male      Male      Male          Male\n",
       "Married                 Yes       Yes       Yes       Yes            No\n",
       "Dependents                0         1         2         2             0\n",
       "Education          Graduate  Graduate  Graduate  Graduate  Not Graduate\n",
       "Self_Employed            No        No        No        No            No\n",
       "ApplicantIncome        5720      3076      5000      2340          3276\n",
       "CoapplicantIncome         0      1500      1800      2546             0\n",
       "LoanAmount              110       126       208       100            78\n",
       "Loan_Amount_Term        360       360       360       360           360\n",
       "Credit_History            1         1         1       NaN             1\n",
       "Property_Area         Urban     Urban     Urban     Urban         Urban"
      ],
      "text/html": "<div>\n<style scoped>\n    .dataframe tbody tr th:only-of-type {\n        vertical-align: middle;\n    }\n\n    .dataframe tbody tr th {\n        vertical-align: top;\n    }\n\n    .dataframe thead th {\n        text-align: right;\n    }\n</style>\n<table border=\"1\" class=\"dataframe\">\n  <thead>\n    <tr style=\"text-align: right;\">\n      <th></th>\n      <th>0</th>\n      <th>1</th>\n      <th>2</th>\n      <th>3</th>\n      <th>4</th>\n    </tr>\n  </thead>\n  <tbody>\n    <tr>\n      <th>Loan_ID</th>\n      <td>LP001015</td>\n      <td>LP001022</td>\n      <td>LP001031</td>\n      <td>LP001035</td>\n      <td>LP001051</td>\n    </tr>\n    <tr>\n      <th>Gender</th>\n      <td>Male</td>\n      <td>Male</td>\n      <td>Male</td>\n      <td>Male</td>\n      <td>Male</td>\n    </tr>\n    <tr>\n      <th>Married</th>\n      <td>Yes</td>\n      <td>Yes</td>\n      <td>Yes</td>\n      <td>Yes</td>\n      <td>No</td>\n    </tr>\n    <tr>\n      <th>Dependents</th>\n      <td>0</td>\n      <td>1</td>\n      <td>2</td>\n      <td>2</td>\n      <td>0</td>\n    </tr>\n    <tr>\n      <th>Education</th>\n      <td>Graduate</td>\n      <td>Graduate</td>\n      <td>Graduate</td>\n      <td>Graduate</td>\n      <td>Not Graduate</td>\n    </tr>\n    <tr>\n      <th>Self_Employed</th>\n      <td>No</td>\n      <td>No</td>\n      <td>No</td>\n      <td>No</td>\n      <td>No</td>\n    </tr>\n    <tr>\n      <th>ApplicantIncome</th>\n      <td>5720</td>\n      <td>3076</td>\n      <td>5000</td>\n      <td>2340</td>\n      <td>3276</td>\n    </tr>\n    <tr>\n      <th>CoapplicantIncome</th>\n      <td>0</td>\n      <td>1500</td>\n      <td>1800</td>\n      <td>2546</td>\n      <td>0</td>\n    </tr>\n    <tr>\n      <th>LoanAmount</th>\n      <td>110</td>\n      <td>126</td>\n      <td>208</td>\n      <td>100</td>\n      <td>78</td>\n    </tr>\n    <tr>\n      <th>Loan_Amount_Term</th>\n      <td>360</td>\n      <td>360</td>\n      <td>360</td>\n      <td>360</td>\n      <td>360</td>\n    </tr>\n    <tr>\n      <th>Credit_History</th>\n      <td>1</td>\n      <td>1</td>\n      <td>1</td>\n      <td>NaN</td>\n      <td>1</td>\n    </tr>\n    <tr>\n      <th>Property_Area</th>\n      <td>Urban</td>\n      <td>Urban</td>\n      <td>Urban</td>\n      <td>Urban</td>\n      <td>Urban</td>\n    </tr>\n  </tbody>\n</table>\n</div>"
     },
     "metadata": {},
     "execution_count": 9
    }
   ],
   "source": [
    "test.head().T\n",
    "\n"
   ]
  },
  {
   "cell_type": "code",
   "execution_count": 10,
   "metadata": {
    "pycharm": {
     "name": "#%%\n"
    }
   },
   "outputs": [
    {
     "output_type": "execute_result",
     "data": {
      "text/plain": [
       "Loan_ID               0\n",
       "Gender               13\n",
       "Married               3\n",
       "Dependents           15\n",
       "Education             0\n",
       "Self_Employed        32\n",
       "ApplicantIncome       0\n",
       "CoapplicantIncome     0\n",
       "LoanAmount           22\n",
       "Loan_Amount_Term     14\n",
       "Credit_History       50\n",
       "Property_Area         0\n",
       "Loan_Status           0\n",
       "dtype: int64"
      ]
     },
     "metadata": {},
     "execution_count": 10
    }
   ],
   "source": [
    "train.isnull().sum()\n",
    "\n",
    "\n"
   ]
  },
  {
   "cell_type": "code",
   "execution_count": 11,
   "metadata": {
    "pycharm": {
     "name": "#%%\n"
    }
   },
   "outputs": [],
   "source": [
    "train['Gender'].fillna(train['Gender'].mode()[0], inplace=True)\n",
    "\n",
    "train['Married'].fillna(train['Married'].mode()[0], inplace=True)\n",
    "train['Dependents'].fillna(train['Dependents'].mode()[0], inplace=True)\n",
    "train['Self_Employed'].fillna(train['Self_Employed'].mode()[0], inplace=True)\n",
    "train['Credit_History'].fillna(train['Credit_History'].mode()[0], inplace=True)"
   ]
  },
  {
   "cell_type": "code",
   "execution_count": 12,
   "metadata": {
    "pycharm": {
     "name": "#%%\n"
    }
   },
   "outputs": [
    {
     "output_type": "execute_result",
     "data": {
      "text/plain": [
       "Loan_ID               0\n",
       "Gender                0\n",
       "Married               0\n",
       "Dependents            0\n",
       "Education             0\n",
       "Self_Employed         0\n",
       "ApplicantIncome       0\n",
       "CoapplicantIncome     0\n",
       "LoanAmount           22\n",
       "Loan_Amount_Term     14\n",
       "Credit_History        0\n",
       "Property_Area         0\n",
       "Loan_Status           0\n",
       "dtype: int64"
      ]
     },
     "metadata": {},
     "execution_count": 12
    }
   ],
   "source": [
    "train.isnull().sum()"
   ]
  },
  {
   "cell_type": "code",
   "execution_count": 13,
   "metadata": {
    "pycharm": {
     "name": "#%%\n"
    }
   },
   "outputs": [],
   "source": [
    "train['Loan_Amount_Term'].fillna(train['Loan_Amount_Term'].mode()[0], inplace=True)\n",
    "train['LoanAmount'].fillna(train['LoanAmount'].median(), inplace=True)"
   ]
  },
  {
   "cell_type": "code",
   "execution_count": 14,
   "metadata": {
    "pycharm": {
     "name": "#%%\n"
    }
   },
   "outputs": [
    {
     "output_type": "execute_result",
     "data": {
      "text/plain": [
       "Loan_ID              0\n",
       "Gender               0\n",
       "Married              0\n",
       "Dependents           0\n",
       "Education            0\n",
       "Self_Employed        0\n",
       "ApplicantIncome      0\n",
       "CoapplicantIncome    0\n",
       "LoanAmount           0\n",
       "Loan_Amount_Term     0\n",
       "Credit_History       0\n",
       "Property_Area        0\n",
       "Loan_Status          0\n",
       "dtype: int64"
      ]
     },
     "metadata": {},
     "execution_count": 14
    }
   ],
   "source": [
    "\n",
    "train.isnull().sum()"
   ]
  },
  {
   "cell_type": "code",
   "execution_count": 15,
   "metadata": {
    "pycharm": {
     "name": "#%%\n"
    }
   },
   "outputs": [
    {
     "output_type": "execute_result",
     "data": {
      "text/plain": [
       "Loan_ID               0\n",
       "Gender               11\n",
       "Married               0\n",
       "Dependents           10\n",
       "Education             0\n",
       "Self_Employed        23\n",
       "ApplicantIncome       0\n",
       "CoapplicantIncome     0\n",
       "LoanAmount            5\n",
       "Loan_Amount_Term      6\n",
       "Credit_History       29\n",
       "Property_Area         0\n",
       "dtype: int64"
      ]
     },
     "metadata": {},
     "execution_count": 15
    }
   ],
   "source": [
    "test.isnull().sum()\n"
   ]
  },
  {
   "cell_type": "code",
   "execution_count": 16,
   "metadata": {
    "pycharm": {
     "name": "#%%\n"
    }
   },
   "outputs": [],
   "source": [
    "test['Gender'].fillna(test['Gender'].mode()[0], inplace=True)\n",
    "test['Dependents'].fillna(test['Dependents'].mode()[0], inplace=True)\n",
    "test['Self_Employed'].fillna(test['Self_Employed'].mode()[0], inplace=True)\n",
    "test['Credit_History'].fillna(test['Credit_History'].mode()[0], inplace=True)\n",
    "test['Loan_Amount_Term'].fillna(test['Loan_Amount_Term'].mode()[0], inplace=True)\n",
    "test['LoanAmount'].fillna(test['LoanAmount'].median(), inplace=True)"
   ]
  },
  {
   "cell_type": "code",
   "execution_count": 17,
   "metadata": {
    "pycharm": {
     "name": "#%%\n"
    }
   },
   "outputs": [
    {
     "output_type": "execute_result",
     "data": {
      "text/plain": [
       "Loan_ID              0\n",
       "Gender               0\n",
       "Married              0\n",
       "Dependents           0\n",
       "Education            0\n",
       "Self_Employed        0\n",
       "ApplicantIncome      0\n",
       "CoapplicantIncome    0\n",
       "LoanAmount           0\n",
       "Loan_Amount_Term     0\n",
       "Credit_History       0\n",
       "Property_Area        0\n",
       "dtype: int64"
      ]
     },
     "metadata": {},
     "execution_count": 17
    }
   ],
   "source": [
    "test.isnull().sum()"
   ]
  },
  {
   "cell_type": "code",
   "execution_count": 18,
   "metadata": {},
   "outputs": [],
   "source": [
    "cat_cols_train = [col for col in train.columns if train[col].dtype == 'object']\n",
    "\n",
    "cat_cols_test = [col for col in test.columns if test[col].dtype == 'object']\n",
    "\n",
    "num_cols_train = [col for col in train.columns if train[col].dtype != 'object']\n",
    "\n",
    "num_cols_test = [col for col in test.columns if test[col].dtype != 'object']"
   ]
  },
  {
   "cell_type": "code",
   "execution_count": 19,
   "metadata": {},
   "outputs": [
    {
     "output_type": "execute_result",
     "data": {
      "text/plain": [
       "['Loan_ID',\n",
       " 'Gender',\n",
       " 'Married',\n",
       " 'Dependents',\n",
       " 'Education',\n",
       " 'Self_Employed',\n",
       " 'Property_Area',\n",
       " 'Loan_Status']"
      ]
     },
     "metadata": {},
     "execution_count": 19
    }
   ],
   "source": [
    "cat_cols_train"
   ]
  },
  {
   "cell_type": "code",
   "execution_count": 20,
   "metadata": {},
   "outputs": [
    {
     "output_type": "execute_result",
     "data": {
      "text/plain": [
       "['Loan_ID',\n",
       " 'Gender',\n",
       " 'Married',\n",
       " 'Dependents',\n",
       " 'Education',\n",
       " 'Self_Employed',\n",
       " 'Property_Area']"
      ]
     },
     "metadata": {},
     "execution_count": 20
    }
   ],
   "source": [
    "cat_cols_test"
   ]
  },
  {
   "cell_type": "code",
   "execution_count": 21,
   "metadata": {},
   "outputs": [
    {
     "output_type": "execute_result",
     "data": {
      "text/plain": [
       "['ApplicantIncome',\n",
       " 'CoapplicantIncome',\n",
       " 'LoanAmount',\n",
       " 'Loan_Amount_Term',\n",
       " 'Credit_History']"
      ]
     },
     "metadata": {},
     "execution_count": 21
    }
   ],
   "source": [
    "num_cols_train"
   ]
  },
  {
   "cell_type": "code",
   "execution_count": 22,
   "metadata": {},
   "outputs": [
    {
     "output_type": "execute_result",
     "data": {
      "text/plain": [
       "['ApplicantIncome',\n",
       " 'CoapplicantIncome',\n",
       " 'LoanAmount',\n",
       " 'Loan_Amount_Term',\n",
       " 'Credit_History']"
      ]
     },
     "metadata": {},
     "execution_count": 22
    }
   ],
   "source": [
    "num_cols_test"
   ]
  },
  {
   "cell_type": "code",
   "execution_count": 23,
   "metadata": {},
   "outputs": [],
   "source": [
    "cat_cols_train.remove('Loan_ID')\n",
    "cat_cols_train.remove('Loan_Status')\n",
    "cat_cols_test.remove('Loan_ID')"
   ]
  },
  {
   "cell_type": "code",
   "execution_count": 24,
   "metadata": {},
   "outputs": [
    {
     "output_type": "execute_result",
     "data": {
      "text/plain": [
       "['Gender',\n",
       " 'Married',\n",
       " 'Dependents',\n",
       " 'Education',\n",
       " 'Self_Employed',\n",
       " 'Property_Area']"
      ]
     },
     "metadata": {},
     "execution_count": 24
    }
   ],
   "source": [
    "cat_cols_train"
   ]
  },
  {
   "cell_type": "code",
   "execution_count": 25,
   "metadata": {},
   "outputs": [
    {
     "output_type": "execute_result",
     "data": {
      "text/plain": [
       "['Gender',\n",
       " 'Married',\n",
       " 'Dependents',\n",
       " 'Education',\n",
       " 'Self_Employed',\n",
       " 'Property_Area']"
      ]
     },
     "metadata": {},
     "execution_count": 25
    }
   ],
   "source": [
    "cat_cols_test"
   ]
  },
  {
   "cell_type": "code",
   "execution_count": 26,
   "metadata": {},
   "outputs": [
    {
     "output_type": "execute_result",
     "data": {
      "text/plain": [
       "array(['Y', 'N'], dtype=object)"
      ]
     },
     "metadata": {},
     "execution_count": 26
    }
   ],
   "source": [
    "train['Loan_Status'].unique()"
   ]
  },
  {
   "cell_type": "code",
   "execution_count": 27,
   "metadata": {},
   "outputs": [],
   "source": [
    "train['Loan_Status'] = train['Loan_Status'].map({'Y': 1, 'N': 0})"
   ]
  },
  {
   "cell_type": "code",
   "execution_count": 28,
   "metadata": {
    "scrolled": true
   },
   "outputs": [
    {
     "output_type": "execute_result",
     "data": {
      "text/plain": [
       "array([1, 0])"
      ]
     },
     "metadata": {},
     "execution_count": 28
    }
   ],
   "source": [
    "train['Loan_Status'].unique()"
   ]
  },
  {
   "cell_type": "code",
   "execution_count": 29,
   "metadata": {},
   "outputs": [],
   "source": [
    "def rate_encoder(df, col):\n",
    "    rate = train.groupby(col)['Loan_Status'].sum()/train.groupby(col)['Loan_Status'].count()\n",
    "    rate_dict = dict(rate)\n",
    "    df[col] = df[col].replace(rate_dict)"
   ]
  },
  {
   "cell_type": "code",
   "execution_count": 30,
   "metadata": {},
   "outputs": [],
   "source": [
    "for col in cat_cols_train:\n",
    "    rate_encoder(train, col)"
   ]
  },
  {
   "cell_type": "code",
   "execution_count": 31,
   "metadata": {},
   "outputs": [],
   "source": [
    "for col in cat_cols_test:\n",
    "    rate_encoder(test, col)"
   ]
  },
  {
   "cell_type": "code",
   "execution_count": 32,
   "metadata": {
    "pycharm": {
     "name": "#%%\n"
    }
   },
   "outputs": [
    {
     "output_type": "execute_result",
     "data": {
      "text/plain": [
       "       Gender   Married  Dependents  Education  Self_Employed  Property_Area\n",
       "0    0.691235  0.629108    0.686111   0.708333       0.687970       0.658416\n",
       "1    0.691235  0.718204    0.647059   0.708333       0.687970       0.614525\n",
       "2    0.691235  0.718204    0.686111   0.708333       0.682927       0.658416\n",
       "3    0.691235  0.718204    0.686111   0.611940       0.687970       0.658416\n",
       "4    0.691235  0.629108    0.686111   0.708333       0.687970       0.658416\n",
       "..        ...       ...         ...        ...            ...            ...\n",
       "609  0.669643  0.629108    0.686111   0.708333       0.687970       0.614525\n",
       "610  0.691235  0.718204    0.647059   0.708333       0.687970       0.614525\n",
       "611  0.691235  0.718204    0.647059   0.708333       0.687970       0.658416\n",
       "612  0.691235  0.718204    0.752475   0.708333       0.687970       0.658416\n",
       "613  0.669643  0.629108    0.686111   0.708333       0.682927       0.768240\n",
       "\n",
       "[614 rows x 6 columns]"
      ],
      "text/html": "<div>\n<style scoped>\n    .dataframe tbody tr th:only-of-type {\n        vertical-align: middle;\n    }\n\n    .dataframe tbody tr th {\n        vertical-align: top;\n    }\n\n    .dataframe thead th {\n        text-align: right;\n    }\n</style>\n<table border=\"1\" class=\"dataframe\">\n  <thead>\n    <tr style=\"text-align: right;\">\n      <th></th>\n      <th>Gender</th>\n      <th>Married</th>\n      <th>Dependents</th>\n      <th>Education</th>\n      <th>Self_Employed</th>\n      <th>Property_Area</th>\n    </tr>\n  </thead>\n  <tbody>\n    <tr>\n      <th>0</th>\n      <td>0.691235</td>\n      <td>0.629108</td>\n      <td>0.686111</td>\n      <td>0.708333</td>\n      <td>0.687970</td>\n      <td>0.658416</td>\n    </tr>\n    <tr>\n      <th>1</th>\n      <td>0.691235</td>\n      <td>0.718204</td>\n      <td>0.647059</td>\n      <td>0.708333</td>\n      <td>0.687970</td>\n      <td>0.614525</td>\n    </tr>\n    <tr>\n      <th>2</th>\n      <td>0.691235</td>\n      <td>0.718204</td>\n      <td>0.686111</td>\n      <td>0.708333</td>\n      <td>0.682927</td>\n      <td>0.658416</td>\n    </tr>\n    <tr>\n      <th>3</th>\n      <td>0.691235</td>\n      <td>0.718204</td>\n      <td>0.686111</td>\n      <td>0.611940</td>\n      <td>0.687970</td>\n      <td>0.658416</td>\n    </tr>\n    <tr>\n      <th>4</th>\n      <td>0.691235</td>\n      <td>0.629108</td>\n      <td>0.686111</td>\n      <td>0.708333</td>\n      <td>0.687970</td>\n      <td>0.658416</td>\n    </tr>\n    <tr>\n      <th>...</th>\n      <td>...</td>\n      <td>...</td>\n      <td>...</td>\n      <td>...</td>\n      <td>...</td>\n      <td>...</td>\n    </tr>\n    <tr>\n      <th>609</th>\n      <td>0.669643</td>\n      <td>0.629108</td>\n      <td>0.686111</td>\n      <td>0.708333</td>\n      <td>0.687970</td>\n      <td>0.614525</td>\n    </tr>\n    <tr>\n      <th>610</th>\n      <td>0.691235</td>\n      <td>0.718204</td>\n      <td>0.647059</td>\n      <td>0.708333</td>\n      <td>0.687970</td>\n      <td>0.614525</td>\n    </tr>\n    <tr>\n      <th>611</th>\n      <td>0.691235</td>\n      <td>0.718204</td>\n      <td>0.647059</td>\n      <td>0.708333</td>\n      <td>0.687970</td>\n      <td>0.658416</td>\n    </tr>\n    <tr>\n      <th>612</th>\n      <td>0.691235</td>\n      <td>0.718204</td>\n      <td>0.752475</td>\n      <td>0.708333</td>\n      <td>0.687970</td>\n      <td>0.658416</td>\n    </tr>\n    <tr>\n      <th>613</th>\n      <td>0.669643</td>\n      <td>0.629108</td>\n      <td>0.686111</td>\n      <td>0.708333</td>\n      <td>0.682927</td>\n      <td>0.768240</td>\n    </tr>\n  </tbody>\n</table>\n<p>614 rows × 6 columns</p>\n</div>"
     },
     "metadata": {},
     "execution_count": 32
    }
   ],
   "source": [
    "train[cat_cols_train]"
   ]
  },
  {
   "cell_type": "code",
   "execution_count": 33,
   "metadata": {
    "pycharm": {
     "name": "#%%\n"
    }
   },
   "outputs": [
    {
     "output_type": "execute_result",
     "data": {
      "text/plain": [
       "                 Gender   Married  Dependents  Education  Self_Employed  \\\n",
       "Gender         1.000000  0.364569    0.066963  -0.045364       0.000525   \n",
       "Married        0.364569  1.000000    0.092012  -0.012304      -0.004489   \n",
       "Dependents     0.066963  0.092012    1.000000  -0.003327       0.012942   \n",
       "Education     -0.045364 -0.012304   -0.003327   1.000000      -0.010383   \n",
       "Self_Employed  0.000525 -0.004489    0.012942  -0.010383       1.000000   \n",
       "Property_Area -0.112640  0.006817   -0.019660   0.055580      -0.000366   \n",
       "Loan_Status    0.017987  0.091478    0.071642   0.085884       0.003700   \n",
       "\n",
       "               Property_Area  Loan_Status  \n",
       "Gender             -0.112640     0.017987  \n",
       "Married             0.006817     0.091478  \n",
       "Dependents         -0.019660     0.071642  \n",
       "Education           0.055580     0.085884  \n",
       "Self_Employed      -0.000366     0.003700  \n",
       "Property_Area       1.000000     0.141523  \n",
       "Loan_Status         0.141523     1.000000  "
      ],
      "text/html": "<div>\n<style scoped>\n    .dataframe tbody tr th:only-of-type {\n        vertical-align: middle;\n    }\n\n    .dataframe tbody tr th {\n        vertical-align: top;\n    }\n\n    .dataframe thead th {\n        text-align: right;\n    }\n</style>\n<table border=\"1\" class=\"dataframe\">\n  <thead>\n    <tr style=\"text-align: right;\">\n      <th></th>\n      <th>Gender</th>\n      <th>Married</th>\n      <th>Dependents</th>\n      <th>Education</th>\n      <th>Self_Employed</th>\n      <th>Property_Area</th>\n      <th>Loan_Status</th>\n    </tr>\n  </thead>\n  <tbody>\n    <tr>\n      <th>Gender</th>\n      <td>1.000000</td>\n      <td>0.364569</td>\n      <td>0.066963</td>\n      <td>-0.045364</td>\n      <td>0.000525</td>\n      <td>-0.112640</td>\n      <td>0.017987</td>\n    </tr>\n    <tr>\n      <th>Married</th>\n      <td>0.364569</td>\n      <td>1.000000</td>\n      <td>0.092012</td>\n      <td>-0.012304</td>\n      <td>-0.004489</td>\n      <td>0.006817</td>\n      <td>0.091478</td>\n    </tr>\n    <tr>\n      <th>Dependents</th>\n      <td>0.066963</td>\n      <td>0.092012</td>\n      <td>1.000000</td>\n      <td>-0.003327</td>\n      <td>0.012942</td>\n      <td>-0.019660</td>\n      <td>0.071642</td>\n    </tr>\n    <tr>\n      <th>Education</th>\n      <td>-0.045364</td>\n      <td>-0.012304</td>\n      <td>-0.003327</td>\n      <td>1.000000</td>\n      <td>-0.010383</td>\n      <td>0.055580</td>\n      <td>0.085884</td>\n    </tr>\n    <tr>\n      <th>Self_Employed</th>\n      <td>0.000525</td>\n      <td>-0.004489</td>\n      <td>0.012942</td>\n      <td>-0.010383</td>\n      <td>1.000000</td>\n      <td>-0.000366</td>\n      <td>0.003700</td>\n    </tr>\n    <tr>\n      <th>Property_Area</th>\n      <td>-0.112640</td>\n      <td>0.006817</td>\n      <td>-0.019660</td>\n      <td>0.055580</td>\n      <td>-0.000366</td>\n      <td>1.000000</td>\n      <td>0.141523</td>\n    </tr>\n    <tr>\n      <th>Loan_Status</th>\n      <td>0.017987</td>\n      <td>0.091478</td>\n      <td>0.071642</td>\n      <td>0.085884</td>\n      <td>0.003700</td>\n      <td>0.141523</td>\n      <td>1.000000</td>\n    </tr>\n  </tbody>\n</table>\n</div>"
     },
     "metadata": {},
     "execution_count": 33
    }
   ],
   "source": [
    "train[cat_cols_train + ['Loan_Status']].corr()"
   ]
  },
  {
   "cell_type": "code",
   "execution_count": 34,
   "metadata": {},
   "outputs": [
    {
     "output_type": "execute_result",
     "data": {
      "text/plain": [
       "                   ApplicantIncome  CoapplicantIncome  LoanAmount  \\\n",
       "ApplicantIncome           1.000000          -0.116605    0.565181   \n",
       "CoapplicantIncome        -0.116605           1.000000    0.189218   \n",
       "LoanAmount                0.565181           0.189218    1.000000   \n",
       "Loan_Amount_Term         -0.046531          -0.059383    0.036960   \n",
       "Credit_History           -0.018615           0.011134   -0.000607   \n",
       "Loan_Status              -0.004710          -0.059187   -0.033214   \n",
       "\n",
       "                   Loan_Amount_Term  Credit_History  Loan_Status  \n",
       "ApplicantIncome           -0.046531       -0.018615    -0.004710  \n",
       "CoapplicantIncome         -0.059383        0.011134    -0.059187  \n",
       "LoanAmount                 0.036960       -0.000607    -0.033214  \n",
       "Loan_Amount_Term           1.000000       -0.004705    -0.022549  \n",
       "Credit_History            -0.004705        1.000000     0.540556  \n",
       "Loan_Status               -0.022549        0.540556     1.000000  "
      ],
      "text/html": "<div>\n<style scoped>\n    .dataframe tbody tr th:only-of-type {\n        vertical-align: middle;\n    }\n\n    .dataframe tbody tr th {\n        vertical-align: top;\n    }\n\n    .dataframe thead th {\n        text-align: right;\n    }\n</style>\n<table border=\"1\" class=\"dataframe\">\n  <thead>\n    <tr style=\"text-align: right;\">\n      <th></th>\n      <th>ApplicantIncome</th>\n      <th>CoapplicantIncome</th>\n      <th>LoanAmount</th>\n      <th>Loan_Amount_Term</th>\n      <th>Credit_History</th>\n      <th>Loan_Status</th>\n    </tr>\n  </thead>\n  <tbody>\n    <tr>\n      <th>ApplicantIncome</th>\n      <td>1.000000</td>\n      <td>-0.116605</td>\n      <td>0.565181</td>\n      <td>-0.046531</td>\n      <td>-0.018615</td>\n      <td>-0.004710</td>\n    </tr>\n    <tr>\n      <th>CoapplicantIncome</th>\n      <td>-0.116605</td>\n      <td>1.000000</td>\n      <td>0.189218</td>\n      <td>-0.059383</td>\n      <td>0.011134</td>\n      <td>-0.059187</td>\n    </tr>\n    <tr>\n      <th>LoanAmount</th>\n      <td>0.565181</td>\n      <td>0.189218</td>\n      <td>1.000000</td>\n      <td>0.036960</td>\n      <td>-0.000607</td>\n      <td>-0.033214</td>\n    </tr>\n    <tr>\n      <th>Loan_Amount_Term</th>\n      <td>-0.046531</td>\n      <td>-0.059383</td>\n      <td>0.036960</td>\n      <td>1.000000</td>\n      <td>-0.004705</td>\n      <td>-0.022549</td>\n    </tr>\n    <tr>\n      <th>Credit_History</th>\n      <td>-0.018615</td>\n      <td>0.011134</td>\n      <td>-0.000607</td>\n      <td>-0.004705</td>\n      <td>1.000000</td>\n      <td>0.540556</td>\n    </tr>\n    <tr>\n      <th>Loan_Status</th>\n      <td>-0.004710</td>\n      <td>-0.059187</td>\n      <td>-0.033214</td>\n      <td>-0.022549</td>\n      <td>0.540556</td>\n      <td>1.000000</td>\n    </tr>\n  </tbody>\n</table>\n</div>"
     },
     "metadata": {},
     "execution_count": 34
    }
   ],
   "source": [
    "train[num_cols_train + ['Loan_Status']].corr()"
   ]
  },
  {
   "cell_type": "code",
   "execution_count": 35,
   "metadata": {},
   "outputs": [],
   "source": [
    "features =  num_cols_train + cat_cols_train"
   ]
  },
  {
   "cell_type": "code",
   "execution_count": 36,
   "metadata": {},
   "outputs": [
    {
     "output_type": "execute_result",
     "data": {
      "text/plain": [
       "['ApplicantIncome',\n",
       " 'CoapplicantIncome',\n",
       " 'LoanAmount',\n",
       " 'Loan_Amount_Term',\n",
       " 'Credit_History',\n",
       " 'Gender',\n",
       " 'Married',\n",
       " 'Dependents',\n",
       " 'Education',\n",
       " 'Self_Employed',\n",
       " 'Property_Area']"
      ]
     },
     "metadata": {},
     "execution_count": 36
    }
   ],
   "source": [
    "features"
   ]
  },
  {
   "cell_type": "code",
   "execution_count": 37,
   "metadata": {},
   "outputs": [],
   "source": [
    "X = train[features]\n",
    "y = train.Loan_Status\n",
    "X_test = test[features]"
   ]
  },
  {
   "cell_type": "code",
   "execution_count": 38,
   "metadata": {},
   "outputs": [
    {
     "output_type": "stream",
     "name": "stdout",
     "text": [
      "0:\tlearn: 0.8018648\ttest: 0.8270270\tbest: 0.8270270 (0)\ttotal: 56.2ms\tremaining: 2m 48s\n",
      "1000:\tlearn: 1.0000000\ttest: 0.7945946\tbest: 0.8324324 (95)\ttotal: 692ms\tremaining: 1.38s\n",
      "2000:\tlearn: 1.0000000\ttest: 0.7945946\tbest: 0.8324324 (95)\ttotal: 1.31s\tremaining: 656ms\n",
      "2999:\tlearn: 1.0000000\ttest: 0.7891892\tbest: 0.8324324 (95)\ttotal: 1.9s\tremaining: 0us\n",
      "\n",
      "bestTest = 0.8324324324\n",
      "bestIteration = 95\n",
      "\n",
      "Shrink model to first 96 iterations.\n"
     ]
    },
    {
     "output_type": "execute_result",
     "data": {
      "text/plain": [
       "<catboost.core.CatBoostClassifier at 0x7f92213d9dc0>"
      ]
     },
     "metadata": {},
     "execution_count": 38
    }
   ],
   "source": [
    "split_test_size=0.3\n",
    "\n",
    "Xtrain, Xtest, Ytrain, Ytest = train_test_split(X, y, test_size=split_test_size, random_state=0)\n",
    "\n",
    "clf = CatBoostClassifier(iterations=3000, depth=3, eval_metric='Accuracy', random_seed=10, learning_rate=0.1)\n",
    "\n",
    "clf.fit(Xtrain, Ytrain, use_best_model=True, eval_set=(Xtest,Ytest), verbose=1000) "
   ]
  },
  {
   "cell_type": "code",
   "execution_count": 39,
   "metadata": {
    "pycharm": {
     "name": "#%%\n"
    }
   },
   "outputs": [],
   "source": [
    "model = CatBoostClassifier(iterations=96, depth=3, eval_metric='Accuracy', random_seed=10, learning_rate=0.1)"
   ]
  },
  {
   "cell_type": "code",
   "execution_count": 40,
   "metadata": {
    "pycharm": {
     "name": "#%%\n"
    }
   },
   "outputs": [
    {
     "output_type": "stream",
     "name": "stdout",
     "text": [
      "0:\tlearn: 0.8094463\ttotal: 1.22ms\tremaining: 116ms\n1:\tlearn: 0.8094463\ttotal: 2.25ms\tremaining: 106ms\n2:\tlearn: 0.8094463\ttotal: 3.2ms\tremaining: 99.3ms\n3:\tlearn: 0.8094463\ttotal: 3.82ms\tremaining: 88ms\n4:\tlearn: 0.8094463\ttotal: 4.71ms\tremaining: 85.7ms\n5:\tlearn: 0.8094463\ttotal: 5.47ms\tremaining: 82.1ms\n6:\tlearn: 0.8094463\ttotal: 6.38ms\tremaining: 81.1ms\n7:\tlearn: 0.8094463\ttotal: 7.3ms\tremaining: 80.3ms\n8:\tlearn: 0.8094463\ttotal: 8.7ms\tremaining: 84.1ms\n9:\tlearn: 0.8094463\ttotal: 9.44ms\tremaining: 81.2ms\n10:\tlearn: 0.8094463\ttotal: 10.1ms\tremaining: 78.2ms\n11:\tlearn: 0.8094463\ttotal: 10.6ms\tremaining: 74.2ms\n12:\tlearn: 0.8094463\ttotal: 11.1ms\tremaining: 71.2ms\n13:\tlearn: 0.8094463\ttotal: 11.8ms\tremaining: 69.1ms\n14:\tlearn: 0.8094463\ttotal: 12.4ms\tremaining: 67.1ms\n15:\tlearn: 0.8094463\ttotal: 13.5ms\tremaining: 67.4ms\n16:\tlearn: 0.8094463\ttotal: 14.2ms\tremaining: 66.2ms\n17:\tlearn: 0.8094463\ttotal: 14.8ms\tremaining: 64ms\n18:\tlearn: 0.8094463\ttotal: 15.3ms\tremaining: 62ms\n19:\tlearn: 0.8094463\ttotal: 15.7ms\tremaining: 59.7ms\n20:\tlearn: 0.8094463\ttotal: 16.1ms\tremaining: 57.5ms\n21:\tlearn: 0.8094463\ttotal: 16.6ms\tremaining: 55.7ms\n22:\tlearn: 0.8094463\ttotal: 17.3ms\tremaining: 54.9ms\n23:\tlearn: 0.8094463\ttotal: 18ms\tremaining: 53.9ms\n24:\tlearn: 0.8094463\ttotal: 18.6ms\tremaining: 52.8ms\n25:\tlearn: 0.8094463\ttotal: 19.1ms\tremaining: 51.3ms\n26:\tlearn: 0.8094463\ttotal: 19.7ms\tremaining: 50.3ms\n27:\tlearn: 0.8094463\ttotal: 20.1ms\tremaining: 48.8ms\n28:\tlearn: 0.8094463\ttotal: 20.5ms\tremaining: 47.4ms\n29:\tlearn: 0.8094463\ttotal: 20.9ms\tremaining: 46.1ms\n30:\tlearn: 0.8094463\ttotal: 21.4ms\tremaining: 45ms\n31:\tlearn: 0.8094463\ttotal: 21.8ms\tremaining: 43.7ms\n32:\tlearn: 0.8094463\ttotal: 22.3ms\tremaining: 42.6ms\n33:\tlearn: 0.8094463\ttotal: 22.7ms\tremaining: 41.5ms\n34:\tlearn: 0.8094463\ttotal: 23.4ms\tremaining: 40.7ms\n35:\tlearn: 0.8094463\ttotal: 23.9ms\tremaining: 39.8ms\n36:\tlearn: 0.8094463\ttotal: 24.6ms\tremaining: 39.2ms\n37:\tlearn: 0.8094463\ttotal: 25.4ms\tremaining: 38.7ms\n38:\tlearn: 0.8094463\ttotal: 26ms\tremaining: 38.1ms\n39:\tlearn: 0.8094463\ttotal: 26.9ms\tremaining: 37.6ms\n40:\tlearn: 0.8094463\ttotal: 27.4ms\tremaining: 36.8ms\n41:\tlearn: 0.8094463\ttotal: 27.8ms\tremaining: 35.7ms\n42:\tlearn: 0.8094463\ttotal: 28.2ms\tremaining: 34.8ms\n43:\tlearn: 0.8110749\ttotal: 28.6ms\tremaining: 33.8ms\n44:\tlearn: 0.8110749\ttotal: 29.2ms\tremaining: 33.1ms\n45:\tlearn: 0.8110749\ttotal: 29.7ms\tremaining: 32.3ms\n46:\tlearn: 0.8110749\ttotal: 30.4ms\tremaining: 31.7ms\n47:\tlearn: 0.8110749\ttotal: 31.3ms\tremaining: 31.3ms\n48:\tlearn: 0.8110749\ttotal: 31.9ms\tremaining: 30.6ms\n49:\tlearn: 0.8110749\ttotal: 32.5ms\tremaining: 29.9ms\n50:\tlearn: 0.8110749\ttotal: 33ms\tremaining: 29.1ms\n51:\tlearn: 0.8110749\ttotal: 33.4ms\tremaining: 28.2ms\n52:\tlearn: 0.8110749\ttotal: 33.7ms\tremaining: 27.4ms\n53:\tlearn: 0.8110749\ttotal: 34.1ms\tremaining: 26.5ms\n54:\tlearn: 0.8110749\ttotal: 34.4ms\tremaining: 25.7ms\n55:\tlearn: 0.8110749\ttotal: 34.8ms\tremaining: 24.9ms\n56:\tlearn: 0.8110749\ttotal: 35.2ms\tremaining: 24.1ms\n57:\tlearn: 0.8110749\ttotal: 35.5ms\tremaining: 23.3ms\n58:\tlearn: 0.8110749\ttotal: 35.9ms\tremaining: 22.5ms\n59:\tlearn: 0.8110749\ttotal: 36.3ms\tremaining: 21.8ms\n60:\tlearn: 0.8110749\ttotal: 36.6ms\tremaining: 21ms\n61:\tlearn: 0.8110749\ttotal: 37ms\tremaining: 20.3ms\n62:\tlearn: 0.8110749\ttotal: 37.4ms\tremaining: 19.6ms\n63:\tlearn: 0.8110749\ttotal: 37.8ms\tremaining: 18.9ms\n64:\tlearn: 0.8110749\ttotal: 38.1ms\tremaining: 18.2ms\n65:\tlearn: 0.8110749\ttotal: 38.5ms\tremaining: 17.5ms\n66:\tlearn: 0.8110749\ttotal: 38.8ms\tremaining: 16.8ms\n67:\tlearn: 0.8110749\ttotal: 39.2ms\tremaining: 16.1ms\n68:\tlearn: 0.8110749\ttotal: 39.7ms\tremaining: 15.5ms\n69:\tlearn: 0.8110749\ttotal: 40.1ms\tremaining: 14.9ms\n70:\tlearn: 0.8110749\ttotal: 40.5ms\tremaining: 14.3ms\n71:\tlearn: 0.8110749\ttotal: 40.9ms\tremaining: 13.6ms\n72:\tlearn: 0.8110749\ttotal: 41.2ms\tremaining: 13ms\n73:\tlearn: 0.8127036\ttotal: 41.6ms\tremaining: 12.4ms\n74:\tlearn: 0.8127036\ttotal: 42ms\tremaining: 11.8ms\n75:\tlearn: 0.8127036\ttotal: 42.3ms\tremaining: 11.1ms\n76:\tlearn: 0.8127036\ttotal: 42.7ms\tremaining: 10.5ms\n77:\tlearn: 0.8127036\ttotal: 43.4ms\tremaining: 10ms\n78:\tlearn: 0.8127036\ttotal: 43.9ms\tremaining: 9.44ms\n79:\tlearn: 0.8127036\ttotal: 44.8ms\tremaining: 8.95ms\n80:\tlearn: 0.8127036\ttotal: 45.5ms\tremaining: 8.42ms\n81:\tlearn: 0.8127036\ttotal: 46.1ms\tremaining: 7.86ms\n82:\tlearn: 0.8143322\ttotal: 46.5ms\tremaining: 7.28ms\n83:\tlearn: 0.8143322\ttotal: 47.2ms\tremaining: 6.74ms\n84:\tlearn: 0.8143322\ttotal: 47.8ms\tremaining: 6.19ms\n85:\tlearn: 0.8143322\ttotal: 48.2ms\tremaining: 5.61ms\n86:\tlearn: 0.8143322\ttotal: 48.6ms\tremaining: 5.03ms\n87:\tlearn: 0.8143322\ttotal: 49ms\tremaining: 4.45ms\n88:\tlearn: 0.8143322\ttotal: 49.4ms\tremaining: 3.88ms\n89:\tlearn: 0.8143322\ttotal: 49.7ms\tremaining: 3.31ms\n90:\tlearn: 0.8143322\ttotal: 50.1ms\tremaining: 2.75ms\n91:\tlearn: 0.8143322\ttotal: 50.4ms\tremaining: 2.19ms\n92:\tlearn: 0.8143322\ttotal: 51ms\tremaining: 1.65ms\n93:\tlearn: 0.8143322\ttotal: 51.5ms\tremaining: 1.1ms\n94:\tlearn: 0.8143322\ttotal: 52ms\tremaining: 547us\n95:\tlearn: 0.8143322\ttotal: 52.4ms\tremaining: 0us\n"
     ]
    },
    {
     "output_type": "execute_result",
     "data": {
      "text/plain": [
       "<catboost.core.CatBoostClassifier at 0x7f92213c7c10>"
      ]
     },
     "metadata": {},
     "execution_count": 40
    }
   ],
   "source": [
    "model.fit(X,y)"
   ]
  },
  {
   "cell_type": "code",
   "execution_count": 45,
   "metadata": {},
   "outputs": [
    {
     "output_type": "execute_result",
     "data": {
      "text/plain": [
       "['model.pkl']"
      ]
     },
     "metadata": {},
     "execution_count": 45
    }
   ],
   "source": [
    "joblib.dump(model, 'model.pkl')"
   ]
  },
  {
   "cell_type": "code",
   "execution_count": 46,
   "metadata": {},
   "outputs": [],
   "source": [
    "model = joblib.load('model.pkl')"
   ]
  },
  {
   "cell_type": "code",
   "execution_count": 47,
   "metadata": {},
   "outputs": [],
   "source": [
    "model_columns = list(X.columns)"
   ]
  },
  {
   "cell_type": "code",
   "execution_count": 48,
   "metadata": {},
   "outputs": [
    {
     "output_type": "execute_result",
     "data": {
      "text/plain": [
       "['model_columns.pkl']"
      ]
     },
     "metadata": {},
     "execution_count": 48
    }
   ],
   "source": [
    "joblib.dump(model_columns, 'model_columns.pkl')"
   ]
  },
  {
   "cell_type": "code",
   "execution_count": null,
   "metadata": {},
   "outputs": [],
   "source": []
  }
 ],
 "metadata": {
  "kernelspec": {
   "display_name": "Python 3",
   "language": "python",
   "name": "python3"
  },
  "language_info": {
   "codemirror_mode": {
    "name": "ipython",
    "version": 3
   },
   "file_extension": ".py",
   "mimetype": "text/x-python",
   "name": "python",
   "nbconvert_exporter": "python",
   "pygments_lexer": "ipython3",
   "version": "3.8.5-final"
  }
 },
 "nbformat": 4,
 "nbformat_minor": 1
}